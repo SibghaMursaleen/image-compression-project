{
  "nbformat": 4,
  "nbformat_minor": 0,
  "metadata": {
    "colab": {
      "provenance": []
    },
    "kernelspec": {
      "name": "python3",
      "display_name": "Python 3"
    },
    "language_info": {
      "name": "python"
    }
  },
  "cells": [
    {
      "cell_type": "markdown",
      "source": [
        "#Image Compression for Efficient Storage and Transmission"
      ],
      "metadata": {
        "id": "p6obEDYLKeK-"
      }
    },
    {
      "cell_type": "markdown",
      "source": [
        "##LIBRARIES"
      ],
      "metadata": {
        "id": "Ex74sQjPLdrJ"
      }
    },
    {
      "cell_type": "code",
      "source": [
        "import os\n",
        "import numpy as np\n",
        "import pywt\n",
        "from PIL import Image\n",
        "from io import BytesIO\n",
        "import cv2"
      ],
      "metadata": {
        "id": "To4IVEjNLdGq"
      },
      "execution_count": 6,
      "outputs": []
    },
    {
      "cell_type": "markdown",
      "source": [
        "##jpeg Compression\n"
      ],
      "metadata": {
        "id": "MwmmWNGKL2ba"
      }
    },
    {
      "cell_type": "code",
      "source": [
        "def compress_jpeg(image_path, quality=10):\n",
        "    image = Image.open(image_path)\n",
        "    buffer = BytesIO()\n",
        "    image.save(buffer, format=\"JPEG\", quality=quality)\n",
        "    return buffer.getvalue()"
      ],
      "metadata": {
        "id": "yDElNSizL1zd"
      },
      "execution_count": 7,
      "outputs": []
    },
    {
      "cell_type": "markdown",
      "source": [
        "##Wavelet Compression Function (Using Haar Transform)"
      ],
      "metadata": {
        "id": "ncYXwEXBL6qa"
      }
    },
    {
      "cell_type": "code",
      "execution_count": 8,
      "metadata": {
        "id": "fxt0XVR0KHST"
      },
      "outputs": [],
      "source": [
        "def compress_wavelet(image_path, wavelet='haar', level=2, threshold=30):\n",
        "    image = Image.open(image_path).convert('L')  # Convert to grayscale\n",
        "    img_array = np.array(image, dtype=np.float32)\n",
        "\n",
        "    coeffs = pywt.wavedec2(img_array, wavelet=wavelet, level=level)\n",
        "    coeffs_thresh = []\n",
        "\n",
        "    for i, coeff in enumerate(coeffs):\n",
        "        if i == 0:\n",
        "            coeffs_thresh.append(coeff)\n",
        "        else:\n",
        "            cH, cV, cD = coeff\n",
        "            cH = pywt.threshold(cH, threshold, mode='soft')\n",
        "            cV = pywt.threshold(cV, threshold, mode='soft')\n",
        "            cD = pywt.threshold(cD, threshold, mode='soft')\n",
        "            coeffs_thresh.append((cH, cV, cD))\n",
        "\n",
        "    img_reconstructed = pywt.waverec2(coeffs_thresh, wavelet)\n",
        "    img_reconstructed = np.clip(img_reconstructed, 0, 255).astype(np.uint8)\n",
        "\n",
        "    result_img = Image.fromarray(img_reconstructed)\n",
        "    buffer = BytesIO()\n",
        "    result_img.save(buffer, format=\"JPEG\", quality=30)\n",
        "    return buffer.getvalue()"
      ]
    },
    {
      "cell_type": "markdown",
      "source": [
        "##Run Compression On Image"
      ],
      "metadata": {
        "id": "_ypwnZbnMGW2"
      }
    },
    {
      "cell_type": "code",
      "source": [
        "input_path = \"sample_2.jpg\"  # Replace with your own image path if needed\n",
        "\n",
        "jpeg_data = compress_jpeg(input_path)\n",
        "wavelet_data = compress_wavelet(input_path)"
      ],
      "metadata": {
        "id": "0KFZQPPpMDAr"
      },
      "execution_count": 11,
      "outputs": []
    },
    {
      "cell_type": "markdown",
      "source": [
        "##Save Compressed Outputs"
      ],
      "metadata": {
        "id": "CysOghA5MYb9"
      }
    },
    {
      "cell_type": "code",
      "source": [
        "with open(\"compressed_jpeg_2.jpg\", \"wb\") as f:\n",
        "    f.write(jpeg_data)\n",
        "\n",
        "with open(\"compressed_wavelet_2.jpg\", \"wb\") as f:\n",
        "    f.write(wavelet_data)"
      ],
      "metadata": {
        "id": "5bAXncEIMUsq"
      },
      "execution_count": 12,
      "outputs": []
    },
    {
      "cell_type": "code",
      "source": [],
      "metadata": {
        "id": "F4nSwSG9Mnlq"
      },
      "execution_count": null,
      "outputs": []
    }
  ]
}